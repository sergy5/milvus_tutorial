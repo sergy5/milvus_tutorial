{
 "cells": [
  {
   "cell_type": "markdown",
   "id": "ffcd5b9d",
   "metadata": {},
   "source": [
    "Создать локальную векторную базу данных Milvus"
   ]
  },
  {
   "cell_type": "code",
   "execution_count": 56,
   "id": "7cbba146",
   "metadata": {},
   "outputs": [],
   "source": [
    "from pymilvus import MilvusClient\n",
    "\n",
    "client = MilvusClient(\"milvus_demo.db\")"
   ]
  },
  {
   "cell_type": "markdown",
   "id": "fe210b7f",
   "metadata": {},
   "source": [
    "Создание коллекции"
   ]
  },
  {
   "cell_type": "code",
   "execution_count": 82,
   "id": "dac43441",
   "metadata": {},
   "outputs": [
    {
     "data": {
      "text/plain": [
       "{'collection_name': 'ru_sbert_demo_collection',\n",
       " 'auto_id': False,\n",
       " 'num_shards': 0,\n",
       " 'description': '',\n",
       " 'fields': [{'field_id': 100,\n",
       "   'name': 'id',\n",
       "   'description': '',\n",
       "   'type': <DataType.INT64: 5>,\n",
       "   'params': {},\n",
       "   'is_primary': True},\n",
       "  {'field_id': 101,\n",
       "   'name': 'vector',\n",
       "   'description': '',\n",
       "   'type': <DataType.FLOAT_VECTOR: 101>,\n",
       "   'params': {'dim': 1024}}],\n",
       " 'functions': [],\n",
       " 'aliases': [],\n",
       " 'collection_id': 0,\n",
       " 'consistency_level': 0,\n",
       " 'properties': {},\n",
       " 'num_partitions': 0,\n",
       " 'enable_dynamic_field': True}"
      ]
     },
     "execution_count": 82,
     "metadata": {},
     "output_type": "execute_result"
    }
   ],
   "source": [
    "if client.has_collection(collection_name=\"ru_sbert_demo_collection\"):\n",
    "    client.drop_collection(collection_name=\"ru_sbert_demo_collection\")\n",
    "client.create_collection(\n",
    "    collection_name=\"ru_sbert_demo_collection\",\n",
    "    dimension=1024,  # The vectors we will use in this demo has 768 dimensions\n",
    ")\n",
    "\n",
    "client.describe_collection(\"ru_sbert_demo_collection\")"
   ]
  },
  {
   "cell_type": "markdown",
   "id": "6553d0c4",
   "metadata": {},
   "source": [
    "## Подготовка данных"
   ]
  },
  {
   "cell_type": "markdown",
   "id": "4c16c176",
   "metadata": {},
   "source": [
    "Сгенерируйте векторные вкрапления с помощью модели по умолчанию. Milvus ожидает, что данные будут представлены в виде списка словарей, где каждый словарь представляет запись данных, называемую сущностью."
   ]
  },
  {
   "cell_type": "code",
   "execution_count": 58,
   "id": "29daf19f",
   "metadata": {},
   "outputs": [],
   "source": [
    "from sentence_transformers import SentenceTransformer\n",
    "\n",
    "# Загружаем модель (скачивается автоматически при первом запуске)\n",
    "model = SentenceTransformer(\"ai-forever/sbert_large_nlu_ru\")"
   ]
  },
  {
   "cell_type": "code",
   "execution_count": null,
   "id": "62c1c700",
   "metadata": {},
   "outputs": [
    {
     "name": "stdout",
     "output_type": "stream",
     "text": [
      "Dim: (1024,)\n",
      "Data has 5 entities, each with fields:  dict_keys(['id', 'vector', 'text', 'subject'])\n",
      "Vector dim: 1024\n"
     ]
    }
   ],
   "source": [
    "# Тексты для векторизации\n",
    "docs = [\n",
    "    \"Я работаю в АБК.\",\n",
    "    \"АБК это айти компания - профессиональное коллекторское агентство\",\n",
    "    \"моя должность ведущий разработчик\",\n",
    "    \"я разрабатываю проекты на языке python\",\n",
    "    \"я использую наушники фирмы Sony\"\n",
    "]\n",
    "\n",
    "# Получаем эмбеддинги (вектора)\n",
    "vectors = model.encode(docs, normalize_embeddings=True)\n",
    "\n",
    "print(\"Dim:\", vectors[0].shape)  # Dim: 768 (768,)\n",
    "\n",
    "# # Each entity has id, vector representation, raw text, and a subject label that we use\n",
    "# # to demo metadata filtering later.\n",
    "data = [\n",
    "    {\"id\": i, \"vector\": vectors[i], \"text\": docs[i], \"subject\": \"about me\"}\n",
    "    for i in range(len(vectors))\n",
    "]\n",
    "\n",
    "print(\"Data has\", len(data), \"entities, each with fields: \", data[0].keys())\n",
    "print(\"Vector dim:\", len(data[0][\"vector\"]))"
   ]
  },
  {
   "cell_type": "markdown",
   "id": "c71d8c88",
   "metadata": {},
   "source": [
    "Вставка данных"
   ]
  },
  {
   "cell_type": "code",
   "execution_count": 80,
   "id": "3ae64239",
   "metadata": {},
   "outputs": [
    {
     "name": "stdout",
     "output_type": "stream",
     "text": [
      "{'insert_count': 5, 'ids': [0, 1, 2, 3, 4]}\n"
     ]
    }
   ],
   "source": [
    "res = client.insert(collection_name=\"ru_sbert_demo_collection\", data=data)\n",
    "\n",
    "print(res)"
   ]
  },
  {
   "cell_type": "markdown",
   "id": "877a4899",
   "metadata": {},
   "source": [
    "Векторный поиск"
   ]
  },
  {
   "cell_type": "code",
   "execution_count": 81,
   "id": "0be0d61b",
   "metadata": {},
   "outputs": [
    {
     "name": "stdout",
     "output_type": "stream",
     "text": [
      "в чем я слушаю музыку?:\t я использую наушники фирмы Sony\t conf = 0.46\n",
      "как я воспроизвожу подкасты?:\t я использую наушники фирмы Sony\t conf = 0.50\n"
     ]
    }
   ],
   "source": [
    "query_list = [\"в чем я слушаю музыку\", \"как я воспроизвожу подкасты\"]\n",
    "query_vectors = model.encode(query_list)\n",
    "# If you don't have the embedding function you can use a fake vector to finish the demo:\n",
    "# query_vectors = [ [ random.uniform(-1, 1) for _ in range(768) ] ]\n",
    "\n",
    "res = client.search(\n",
    "    collection_name=\"ru_sbert_demo_collection\",  # target collection\n",
    "    data=query_vectors,  # query vectors\n",
    "    limit=2,  # number of returned entities\n",
    "    output_fields=[\"text\", \"subject\"],  # specifies fields to be returned\n",
    ")\n",
    "\n",
    "# print(res)\n",
    "\n",
    "for i, query_result in enumerate(res):\n",
    "    for line in query_result:\n",
    "        print(f\"{query_list[i]}?:\\t {line['entity']['text']}\\t conf = {line['distance']:.2f}\")"
   ]
  }
 ],
 "metadata": {
  "kernelspec": {
   "display_name": ".venv",
   "language": "python",
   "name": "python3"
  },
  "language_info": {
   "codemirror_mode": {
    "name": "ipython",
    "version": 3
   },
   "file_extension": ".py",
   "mimetype": "text/x-python",
   "name": "python",
   "nbconvert_exporter": "python",
   "pygments_lexer": "ipython3",
   "version": "3.10.12"
  }
 },
 "nbformat": 4,
 "nbformat_minor": 5
}
